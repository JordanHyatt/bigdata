{
 "cells": [
  {
   "cell_type": "code",
   "execution_count": 1,
   "metadata": {},
   "outputs": [],
   "source": [
    "from tqdm.notebook import tqdm\n",
    "from cfb import models as cfb_models\n",
    "import pandas as pd; DF=pd.DataFrame\n",
    "import numpy as np; import requests"
   ]
  },
  {
   "cell_type": "markdown",
   "metadata": {},
   "source": [
    "### Read in and Clean \"Coaches\" DF"
   ]
  },
  {
   "cell_type": "code",
   "execution_count": 2,
   "metadata": {},
   "outputs": [],
   "source": [
    "coaches_df=pd.read_csv('_Coaches8.csv')\n",
    "# Clean Numerical Columns and conver to floats\n",
    "# Make Pay in millions of dollars\n",
    "cols=['SchoolPay','TotalPay','Bonus','BonusPaid','AssistantPay','Buyout']\n",
    "replace_list = ['$',',','-']\n",
    "for col in cols:\n",
    "    coaches_df[col]=coaches_df[col].astype(str).str.strip()\n",
    "    for char in replace_list:\n",
    "        coaches_df[col]=coaches_df[col].str.replace(char,'')\n",
    "    coaches_df[col]=coaches_df[col].replace('',np.nan)"
   ]
  },
  {
   "cell_type": "markdown",
   "metadata": {},
   "source": [
    "### Create Season/Coach/Conference Instances"
   ]
  },
  {
   "cell_type": "code",
   "execution_count": 3,
   "metadata": {},
   "outputs": [],
   "source": [
    "# Create Season Instances\n",
    "for year in range(1900,2100):\n",
    "    season,c = Season.objects.get_or_create(\n",
    "        year=year,defaults=dict(year=year)\n",
    "    )\n",
    "season = Season.objects.get(year=2019)\n",
    "def main():\n",
    "    print(f'------------- FB Season: {season} ------------------')\n",
    "    for tup in tqdm(coaches_df.itertuples()):\n",
    "        # get or create school\n",
    "        school,c=cfb_models.School.objects.get_or_create(\n",
    "            name=tup.School,defaults=dict(name=tup.School)\n",
    "        )\n",
    "        # get or create team\n",
    "        team,c=cfb_models.Team.objects.get_or_create(\n",
    "            school=school,type='Football',\n",
    "            defaults=dict(school=school,type='Football')\n",
    "        )\n",
    "        # get or create conference\n",
    "        conf,c=cfb_models.Conference.objects.get_or_create(\n",
    "            name=tup.Conference,defaults=dict(name=tup.Conference)\n",
    "        )\n",
    "\n",
    "        # get or create coach\n",
    "        coach_name_arr = tup.Coach.strip().split(' ')\n",
    "        cfn=coach_name_arr[0]; cln=coach_name_arr[1]\n",
    "        coach,c = cfb_models.Coach.objects.get_or_create(\n",
    "            firstName=cfn,lastName=cln,\n",
    "            defaults=dict(firstName=cfn,lastName=cln)\n",
    "        )\n",
    "\n",
    "        # get or create team season\n",
    "        tseason,c = TeamSeason.objects.update_or_create(\n",
    "            team=team,season=season,conference=conf,coach=coach,\n",
    "            defaults=dict(team=team,season=season,conference=conf,coach=coach)\n",
    "        )\n",
    "\n",
    "        cpay,c = CoachPay.objects.update_or_create(\n",
    "            teamseason=tseason,base=tup.SchoolPay,total=tup.TotalPay,\n",
    "            bonus=tup.Bonus,bonusPaid=tup.BonusPaid,buyout=tup.Buyout,\n",
    "            defaults=dict(\n",
    "                teamseason=tseason,base=tup.SchoolPay,total=tup.TotalPay,\n",
    "                bonus=tup.Bonus,bonusPaid=tup.BonusPaid,buyout=tup.Buyout,        \n",
    "            )\n",
    "        )\n"
   ]
  },
  {
   "cell_type": "markdown",
   "metadata": {},
   "source": [
    "### Scrape cfbstats.com to extract url id for each team"
   ]
  },
  {
   "cell_type": "code",
   "execution_count": 33,
   "metadata": {},
   "outputs": [],
   "source": [
    "#### Get Teams URL ID from cfbstats\n",
    "\n",
    "def translate_team_name(old_name):\n",
    "    team_match_dict={\n",
    "        'BYU':'Brigham Young',\"Hawai'i\":'Hawaii', \n",
    "        'Miami (Florida)':'Miami (Fla.)', 'SMU':'Southern Methodist', \n",
    "        'TCU':'Texas Christian', 'UAB':'Alabama at Birmingham', \n",
    "        'UCF':'Central Florida', 'UNLV':'Nevada-Las Vegas',\n",
    "        'USC':'Southern California','UTEP':'Texas-El Paso', \n",
    "        'UTSA':'Texas-San Antonio','Appalachian St.':'Appalachian State',\n",
    "        'Fla. Atlantic':'Florida Atlantic',\"Florida Int'l\":'Florida International',\n",
    "        'Western Ky.':'Western Kentucky','Middle Tenn. St.':'Middle Tennessee'\n",
    "    } \n",
    "    old_name = replace_abbrevs(old_name)\n",
    "    if old_name in team_match_dict.keys():\n",
    "        new_name = team_match_dict[old_name]    \n",
    "    else:\n",
    "        new_name = old_name\n",
    "    return new_name\n",
    "\n",
    "def replace_abbrevs(old_name):\n",
    "    new_name=old_name\n",
    "    replace_arr=[\n",
    "        ['St.','State'],\n",
    "        ['Ala.','Alabama'],\n",
    "        ['Ga.','Georgia'],\n",
    "        ['Fla.','Florida'],\n",
    "        ['Ill.','Illinois'],\n",
    "        ['Caro.','Carolina'],\n",
    "        ['Ky.','Kentucky'],\n",
    "        ['La.','Louisiana'],\n",
    "        ['Mich.','Michigan']\n",
    "    ]\n",
    "    for r in replace_arr:\n",
    "        new_name=new_name.replace(r[0],r[1])\n",
    "    return new_name\n",
    "    \n",
    "def get_team_home_page_dfs_from_cfbstats(team_id):\n",
    "    url = f'http://www.cfbstats.com/2019/team/{team_id}/index.html'\n",
    "    r=requests.get(url)\n",
    "    try:\n",
    "        dfs=pd.read_html(r.content)\n",
    "    except ValueError:\n",
    "        dfs=[]\n",
    "    return dfs\n",
    "\n",
    "def main():\n",
    "    found_count=0\n",
    "    target = len(coaches_df)\n",
    "    for i in tqdm(range(0,1000)):\n",
    "        urlId=str(i)\n",
    "        dfs=get_team_home_page_dfs_from_cfbstats(i)\n",
    "        if len(dfs)==0: continue\n",
    "        found_count+=1\n",
    "        tname = dfs[0].columns[1]\n",
    "        tname = translate_team_name(tname)\n",
    "        team = Team.objects.filter(school__name=tname).first()\n",
    "\n",
    "        cfbs_id,c = CfbstatsUrlId.objects.update_or_create(\n",
    "            team=team,urlId=urlId,\n",
    "            defaults=dict(team=team,urlId=urlId)\n",
    "        )\n",
    "#main()"
   ]
  },
  {
   "cell_type": "markdown",
   "metadata": {},
   "source": [
    "#  -----   Get 2019 Season Stats  -----"
   ]
  },
  {
   "cell_type": "markdown",
   "metadata": {},
   "source": [
    "### Get Record for each team"
   ]
  },
  {
   "cell_type": "code",
   "execution_count": null,
   "metadata": {},
   "outputs": [],
   "source": [
    "teamseason = TeamSeason.objects.order_by('?').first()\n",
    "dfs = get_team_home_page_dfs_from_cfbstats(teamseason.team.cfbs.urlId)\n",
    "team_stats_df = dfs[0]\n",
    "game_result_tdf = dfs[1]\n",
    "record_df = dfs[2]\n",
    "\n",
    "def get_loc(val):\n",
    "    if val[0]=='@':\n",
    "        loc = 'A' \n",
    "    elif val[0]=='+':\n",
    "        loc = 'N'\n",
    "    else:\n",
    "        loc = 'H'\n",
    "    return loc\n",
    "\n",
    "game_result_df = game_result_tdf.iloc[:-1,:].copy()\n",
    "game_result_df['loc']=game_result_df['Opponent'].map(get_loc)\n",
    "game_result_df['Opponent']=game_result_df['Opponent'].str.replace('@','').str.replace('+','')\n",
    "game_result_df['Date']=pd.to_datetime(game_result_df['Date'])\n",
    "game_result_df=game_result_df.rename(columns={'Game Time':'Game_Time'})\n",
    "\n",
    "print(f'----- {teamseason} ---------')\n",
    "print(f'--------------------------------------')\n",
    "print('------------- Records -------------')\n",
    "for tup in record_df.itertuples():\n",
    "    desc=tup.Split\n",
    "    record = tup.Record.strip().split('-')\n",
    "    win=record[0]\n",
    "    loss=record[1]\n",
    "    \n",
    "    ts_record,c = TeamSeasonRecord.objects.update_or_create(\n",
    "        teamseason=teamseason,desc=desc,win=win,loss=loss,\n",
    "        defaults=dict(teamseason=teamseason,desc=desc,win=win,loss=loss)\n",
    "    )\n",
    "    print(ts_record)"
   ]
  },
  {
   "cell_type": "code",
   "execution_count": 52,
   "metadata": {},
   "outputs": [
    {
     "name": "stdout",
     "output_type": "stream",
     "text": [
      "------------- Game Results -------------\n",
      "2019, Football, Eastern Michigan Eastern Michigan\n",
      "2019, Football, Kansas Kansas\n",
      "None Norfolk State\n",
      "2019, Football, Massachusetts Massachusetts\n",
      "2019, Football, Appalachian State Appalachian State\n",
      "2019, Football, Georgia State Georgia State\n",
      "2019, Football, Georgia Southern Georgia Southern\n",
      "2019, Football, Troy Troy\n",
      "2019, Football, Louisiana-Lafayette Louisiana-Lafayette\n",
      "2019, Football, Arkansas State Arkansas State\n",
      "2019, Football, Louisiana-Monroe Louisiana-Monroe\n",
      "2019, Football, Texas State Texas State\n"
     ]
    }
   ],
   "source": [
    "print('------------- Game Results -------------')\n",
    "for tup in game_result_df.itertuples():\n",
    "    date = tup.Date\n",
    "    attendance = tup.Attendance\n",
    "    result_str = tup.Result\n",
    "    result = result_str[0]\n",
    "    if result not in ['L','W']: result = 'T'\n",
    "    score_str = result_str[2:]\n",
    "    score1 = score_str.split('-')[0]\n",
    "    score2 = score_str.split('-')[1]\n",
    "    score_arr = [int(score1),int(score2)]\n",
    "    if result=='W':\n",
    "        score,oscore=(max(score_arr),min(score_arr))\n",
    "    else:\n",
    "        score,oscore=(min(score_arr),max(score_arr))\n",
    "    \n",
    "    oname=tup.Opponent.strip()\\\n",
    "        .replace('St.','State').replace('Ala.','Alabama')\n",
    "    if oname[0].isnumeric():\n",
    "        orank = oname.split(' ')[0]\n",
    "        oname = \" \".join(oname.split(' ')[1:])\n",
    "    else:\n",
    "        orank=None\n",
    "    oname = translate_team_name(oname)       \n",
    "    \n",
    "    glen = tup.Game_Time\n",
    "    glen = float(glen.split(':')[0]) + float(glen.split(':')[1])/60\n",
    "    \n",
    "    opponent = TeamSeason.objects.filter(\n",
    "        season=teamseason.season,\n",
    "        team__school__name=oname\n",
    "    ).first()\n",
    "\n",
    "    gr,c = GameResult.objects.update_or_create(\n",
    "        teamseason=teamseason,\n",
    "        opponent=opponent,\n",
    "        date=date,\n",
    "    )"
   ]
  },
  {
   "cell_type": "code",
   "execution_count": 110,
   "metadata": {},
   "outputs": [],
   "source": []
  },
  {
   "cell_type": "code",
   "execution_count": null,
   "metadata": {},
   "outputs": [],
   "source": []
  },
  {
   "cell_type": "code",
   "execution_count": null,
   "metadata": {},
   "outputs": [],
   "source": []
  },
  {
   "cell_type": "code",
   "execution_count": null,
   "metadata": {},
   "outputs": [],
   "source": []
  },
  {
   "cell_type": "markdown",
   "metadata": {},
   "source": []
  }
 ],
 "metadata": {
  "kernelspec": {
   "display_name": "Django Shell-Plus",
   "language": "python",
   "name": "django_extensions"
  },
  "language_info": {
   "codemirror_mode": {
    "name": "ipython",
    "version": 3
   },
   "file_extension": ".py",
   "mimetype": "text/x-python",
   "name": "python",
   "nbconvert_exporter": "python",
   "pygments_lexer": "ipython3",
   "version": "3.7.6"
  }
 },
 "nbformat": 4,
 "nbformat_minor": 4
}
