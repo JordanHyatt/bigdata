{
 "cells": [
  {
   "cell_type": "code",
   "execution_count": 1,
   "metadata": {},
   "outputs": [],
   "source": [
    "import pandas as pd; DF=pd.DataFrame\n",
    "import requests\n",
    "from tqdm.notebook import tqdm"
   ]
  },
  {
   "cell_type": "markdown",
   "metadata": {},
   "source": [
    "### School Record Scrapper"
   ]
  },
  {
   "cell_type": "code",
   "execution_count": 2,
   "metadata": {},
   "outputs": [
    {
     "data": {
      "application/vnd.jupyter.widget-view+json": {
       "model_id": "b54f824ac6804c3e8377397ceefe1274",
       "version_major": 2,
       "version_minor": 0
      },
      "text/plain": [
       "HBox(children=(FloatProgress(value=0.0, max=1000.0), HTML(value='')))"
      ]
     },
     "metadata": {},
     "output_type": "display_data"
    },
    {
     "name": "stdout",
     "output_type": "stream",
     "text": [
      "\n"
     ]
    }
   ],
   "source": [
    "### Scrap http://www.cfbstats.com/ for team records\n",
    "### And save as CSV \n",
    "team_match_dict={\n",
    "    'BYU':'Brigham Young',\"Hawai'i\":'Hawaii', \n",
    "    'Miami (Florida)':'Miami (Fla.)', 'SMU':'Southern Methodist', \n",
    "    'TCU':'Texas Christian', 'UAB':'Alabama at Birmingham', \n",
    "    'UCF':'Central Florida', 'UNLV':'Nevada-Las Vegas',\n",
    "    'USC':'Southern California','UTEP':'Texas-El Paso', \n",
    "    'UTSA':'Texas-San Antonio',\n",
    "}\n",
    "def get_team_dfs_from_cfbstats(team_id):\n",
    "    url = f'http://www.cfbstats.com/2019/team/{team_id}/index.html'\n",
    "    r=requests.get(url)\n",
    "    try:\n",
    "        dfs=pd.read_html(r.content)\n",
    "    except ValueError:\n",
    "        dfs=None\n",
    "    return dfs\n",
    "\n",
    "def get_team_record_from_dfs(dfs):\n",
    "    df1=dfs[0]\n",
    "    df2=dfs[1]\n",
    "    df3=dfs[2]\n",
    "    teamName=df1.columns[1]\n",
    "    ser=df3['Record'].str.split('-',expand=True).rename(columns={0:'W',1:'L'}).iloc[0]\n",
    "    ser.name=teamName\n",
    "    return ser\n",
    "    \n",
    "def get_record_df():\n",
    "    record_df=DF()\n",
    "    for i in tqdm(range(0,1000)):\n",
    "        tid = str(i)\n",
    "        dfs=get_team_dfs_from_cfbstats(tid)\n",
    "        if not dfs: continue\n",
    "        record = get_team_record_from_dfs(dfs)\n",
    "        record_df=record_df.append(record)\n",
    "    return record_df\n",
    "def convert_name(name):\n",
    "    team_match_dict={\n",
    "        'BYU':'Brigham Young',\"Hawai'i\":'Hawaii', \n",
    "        'Miami (Florida)':'Miami (Fla.)', 'SMU':'Southern Methodist', \n",
    "        'TCU':'Texas Christian', 'UAB':'Alabama at Birmingham', \n",
    "        'UCF':'Central Florida', 'UNLV':'Nevada-Las Vegas',\n",
    "        'USC':'Southern California','UTEP':'Texas-El Paso', \n",
    "        'UTSA':'Texas-San Antonio',\n",
    "    }\n",
    "    new_name= team_match_dict.get(name)\n",
    "    if pd.isna(new_name):\n",
    "        return name\n",
    "    else:\n",
    "        return new_name\n",
    "def main():\n",
    "    record_df = get_record_df()\n",
    "    record_df = record_df.reset_index().rename(columns={'index':'School'})\n",
    "    record_df['School']=record_df['School'].map(convert_name)\n",
    "    record_df.to_csv('_records.csv',index=False)\n",
    "main()"
   ]
  },
  {
   "cell_type": "code",
   "execution_count": null,
   "metadata": {},
   "outputs": [],
   "source": [
    "\n"
   ]
  },
  {
   "cell_type": "code",
   "execution_count": null,
   "metadata": {},
   "outputs": [],
   "source": []
  },
  {
   "cell_type": "code",
   "execution_count": null,
   "metadata": {},
   "outputs": [],
   "source": []
  }
 ],
 "metadata": {
  "kernelspec": {
   "display_name": "Django Shell-Plus",
   "language": "python",
   "name": "django_extensions"
  },
  "language_info": {
   "codemirror_mode": {
    "name": "ipython",
    "version": 3
   },
   "file_extension": ".py",
   "mimetype": "text/x-python",
   "name": "python",
   "nbconvert_exporter": "python",
   "pygments_lexer": "ipython3",
   "version": "3.7.6"
  }
 },
 "nbformat": 4,
 "nbformat_minor": 4
}
