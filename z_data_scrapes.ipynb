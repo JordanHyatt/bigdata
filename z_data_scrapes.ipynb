{
 "cells": [
  {
   "cell_type": "code",
   "execution_count": 1,
   "metadata": {},
   "outputs": [],
   "source": [
    "import pandas as pd\n",
    "DF=pd.DataFrame\n",
    "import requests\n",
    "from tqdm.notebook import tqdm"
   ]
  },
  {
   "cell_type": "markdown",
   "metadata": {},
   "source": [
    "### School Abbreviation Scrapper"
   ]
  },
  {
   "cell_type": "code",
   "execution_count": 19,
   "metadata": {},
   "outputs": [
    {
     "data": {
      "application/vnd.jupyter.widget-view+json": {
       "model_id": "a5afb5b4bec94d0b91eb918b8dcdb55c",
       "version_major": 2,
       "version_minor": 0
      },
      "text/plain": [
       "HBox(children=(FloatProgress(value=0.0, max=209.0), HTML(value='')))"
      ]
     },
     "metadata": {},
     "output_type": "display_data"
    },
    {
     "name": "stdout",
     "output_type": "stream",
     "text": [
      "\n"
     ]
    }
   ],
   "source": [
    "def get_abbrev_df_page(page):\n",
    "    url_base = f'https://www.abbreviations.com/acronyms/COLLEGES/'\n",
    "    url = url_base+page\n",
    "    r=requests.get(url)\n",
    "    try:\n",
    "        dfs=pd.read_html(r.content)\n",
    "        return dfs[0]   \n",
    "    except:\n",
    "        pass\n",
    "\n",
    "def get_abbrev_df():\n",
    "    df=DF()\n",
    "    for i in tqdm(range(1,210)):\n",
    "        pg= '' if str(i)=='0' else str(i)\n",
    "        tdf=get_abbrev_df_page(pg)\n",
    "        df=df.append(tdf)\n",
    "    df=df.drop([2,3,4,5,6],axis=1).rename(columns={0:'abbrev',1:'name'})\n",
    "    return df\n",
    "\n",
    "def main():\n",
    "    df=get_abbrev_df()\n",
    "    df.to_csv('abbreviations.csv',index=False)\n",
    "main()"
   ]
  },
  {
   "cell_type": "code",
   "execution_count": 16,
   "metadata": {},
   "outputs": [],
   "source": []
  },
  {
   "cell_type": "code",
   "execution_count": null,
   "metadata": {},
   "outputs": [],
   "source": []
  }
 ],
 "metadata": {
  "kernelspec": {
   "display_name": "Django Shell-Plus",
   "language": "python",
   "name": "django_extensions"
  },
  "language_info": {
   "codemirror_mode": {
    "name": "ipython",
    "version": 3
   },
   "file_extension": ".py",
   "mimetype": "text/x-python",
   "name": "python",
   "nbconvert_exporter": "python",
   "pygments_lexer": "ipython3",
   "version": "3.7.6"
  }
 },
 "nbformat": 4,
 "nbformat_minor": 4
}
